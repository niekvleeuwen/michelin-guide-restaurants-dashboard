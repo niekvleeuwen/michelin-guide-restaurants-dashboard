{
 "cells": [
  {
   "cell_type": "markdown",
   "metadata": {},
   "source": [
    "# Serving Data with Dash: Exploring the Michelin Star Restaurant Guide\n",
    "\n",
    "The Michelin Guide has long been synonymous with culinary excellence, serving as a global benchmark for top-tier dining experiences. In this blog post, I take on the [Plotly Autumn App Challenge](https://community.plotly.com/t/autumn-app-challenge/87373) of exploring Michelin Star Restaurant Guide data using Dash, a powerful Python framework for building analytical web applications. The dataset is provided by Jerry Ng on [Kaggle](https://www.kaggle.com/datasets/ngshiheng/michelin-guide-restaurants-2021). As per the challenge, the goal is to create a dashboard that reveals insights from the dataset, has great UI/UX design and creative usage of Plotly maps. I’ll walk you through my approach to data exploration, visualization, and the design decisions that went into building the final app."
   ]
  },
  {
   "cell_type": "markdown",
   "metadata": {},
   "source": [
    "## Data exploration\n",
    "\n",
    "The first step of exploring the dataset, was checking which columns were available:\n",
    "\n",
    "Columns in dataset:\n",
    "* **Name**: name of the restaurant.\n",
    "* **Address**: Address of the restaurant.\n",
    "* **Location**: Location of the restaurant.\n",
    "* **Price**: Price range of the restaurant (e.g., $, $$, $$$).\n",
    "* **Cuisine**: Type of cuisines served at the restaurant.\n",
    "* **Longitude**: Longitude coordinates of the restaurant.\n",
    "* **Latitude**: Latitude coordinates of the restaurant.\n",
    "* **PhoneNumber**: Contact phone number of the restaurant.\n",
    "* **Url**: MICHELIN Guide URL of the restaurant's listing.\n",
    "* **WebsiteUrl**: URL of the restaurant's official website.\n",
    "* **Award**: The culinary distinctions.\n",
    "* **GreenStar**: Award for sustainable restaurant practices.\n",
    "* **FacilitiesAndServices**: A list of facilities and services offered by the restaurant.\n",
    "* **Description**: A short description of the restaurant."
   ]
  },
  {
   "cell_type": "markdown",
   "metadata": {},
   "source": [
    "### Data loading\n",
    "\n",
    "After checking the initial CSV dataset, I'll load the dataset into a Pandas DataFrame."
   ]
  },
  {
   "cell_type": "code",
   "execution_count": null,
   "metadata": {},
   "outputs": [],
   "source": [
    "import pandas as pd\n",
    "from plotly.offline import init_notebook_mode\n",
    "import plotly.express as px\n",
    "\n",
    "init_notebook_mode(connected=True)"
   ]
  },
  {
   "cell_type": "code",
   "execution_count": null,
   "metadata": {},
   "outputs": [],
   "source": [
    "df = pd.read_csv(\"https://raw.githubusercontent.com/plotly/datasets/master/michelin_by_Jerry_Ng.csv\")"
   ]
  },
  {
   "cell_type": "code",
   "execution_count": null,
   "metadata": {},
   "outputs": [],
   "source": [
    "df.head()"
   ]
  },
  {
   "cell_type": "markdown",
   "metadata": {},
   "source": [
    "### Data cleaning\n",
    "\n",
    "After loading the data, I'll preform a few data cleaning operations. First, for the column 'FacilitiesAndServices', the comma delimited string is converted to a list."
   ]
  },
  {
   "cell_type": "code",
   "execution_count": null,
   "metadata": {},
   "outputs": [],
   "source": [
    "df[\"FacilitiesAndServices\"] = df[\"FacilitiesAndServices\"].str.split(\",\")\n",
    "df[\"FacilitiesAndServices\"]"
   ]
  },
  {
   "cell_type": "markdown",
   "metadata": {},
   "source": [
    "Next, I convert the GreenStar column values (0,1) to a boolean field."
   ]
  },
  {
   "cell_type": "code",
   "execution_count": null,
   "metadata": {},
   "outputs": [],
   "source": [
    "df[\"GreenStar\"] = df[\"GreenStar\"].astype(bool)\n",
    "df[\"GreenStar\"].dtype"
   ]
  },
  {
   "cell_type": "code",
   "execution_count": null,
   "metadata": {},
   "outputs": [],
   "source": [
    "# df[\"Cuisine\"] = df[\"Cuisine\"].str.split(\", \")"
   ]
  },
  {
   "cell_type": "code",
   "execution_count": null,
   "metadata": {},
   "outputs": [],
   "source": [
    "df[\"Cuisine\"].value_counts()"
   ]
  },
  {
   "cell_type": "markdown",
   "metadata": {},
   "source": [
    "### Features"
   ]
  },
  {
   "cell_type": "markdown",
   "metadata": {},
   "source": [
    "To simplify filtering and visualizing the data later on, I will add a number of features. To start, the dataset only contains a 'Location' column. This column will be used to create two new columns: 'City' and 'Country'."
   ]
  },
  {
   "cell_type": "code",
   "execution_count": null,
   "metadata": {},
   "outputs": [],
   "source": [
    "df[\"Location\"].str.count(\",\").value_counts()"
   ]
  },
  {
   "cell_type": "code",
   "execution_count": null,
   "metadata": {},
   "outputs": [],
   "source": [
    "df[[\"City\", \"Country\"]] = df[\"Location\"].str.split(\", \", n=1, expand=True)\n",
    "df[[\"Location\", \"City\", \"Country\"]]"
   ]
  },
  {
   "cell_type": "code",
   "execution_count": null,
   "metadata": {},
   "outputs": [],
   "source": [
    "df[df[\"Country\"].isna()][\"Location\"].unique()"
   ]
  },
  {
   "cell_type": "markdown",
   "metadata": {},
   "source": [
    "As shown above, the current implementation doesn't account for locations where the city and country are the same value (e.g. Singapore). We will fix this with the following line of code:"
   ]
  },
  {
   "cell_type": "code",
   "execution_count": null,
   "metadata": {},
   "outputs": [],
   "source": [
    "df.loc[df[\"Country\"].isnull(), \"Country\"] = df[\"Location\"]"
   ]
  },
  {
   "cell_type": "code",
   "execution_count": null,
   "metadata": {},
   "outputs": [],
   "source": [
    "df[df[\"Country\"].isna()][\"Location\"].unique()"
   ]
  },
  {
   "cell_type": "markdown",
   "metadata": {},
   "source": [
    "Next, I apply the size mapping, as shown in the Plotly example."
   ]
  },
  {
   "cell_type": "code",
   "execution_count": null,
   "metadata": {},
   "outputs": [],
   "source": [
    "def size_mapping(award):\n",
    "    if award == \"3 Stars\":\n",
    "        return 30\n",
    "    elif award == \"2 Stars\":\n",
    "        return 15\n",
    "    elif award == \"1 Star\":\n",
    "        return 10\n",
    "    elif award == \"Bib Gourmand\":\n",
    "        return 5\n",
    "    else:\n",
    "        return 2\n",
    "\n",
    "\n",
    "df[\"Award (Map Size)\"] = df[\"Award\"].apply(size_mapping)"
   ]
  },
  {
   "cell_type": "markdown",
   "metadata": {},
   "source": [
    "During the exploration, I also noticed that the price is shown in different currencies. This makes it difficult to visualize the data. Adding a new column, in which I will 'normalize' the price ranges, will make this easier."
   ]
  },
  {
   "cell_type": "code",
   "execution_count": null,
   "metadata": {},
   "outputs": [],
   "source": [
    "def price_mapping(price):\n",
    "    if pd.isna(price):\n",
    "        return price\n",
    "\n",
    "    length = len(price)\n",
    "\n",
    "    if length == 1:\n",
    "        return \"Budget-Friendly\"\n",
    "    elif length == 2:\n",
    "        return \"Moderate\"\n",
    "    elif length == 3:\n",
    "        return \"Premium\"\n",
    "    elif length == 4:\n",
    "        return \"Luxury\"\n",
    "    raise ValueError(\"Unknown price range\")\n",
    "\n",
    "\n",
    "df[\"Price (normalized)\"] = df[\"Price\"].apply(price_mapping)\n",
    "df[\"Price (normalized)\"].value_counts()"
   ]
  },
  {
   "cell_type": "markdown",
   "metadata": {},
   "source": [
    "## Stats\n",
    "\n",
    "After cleaning the data and creating some features, we dive in to the analysis. "
   ]
  },
  {
   "cell_type": "code",
   "execution_count": null,
   "metadata": {},
   "outputs": [],
   "source": [
    "number_of_countries = len(df[df[\"Country\"].notna()][\"Country\"].unique())\n",
    "print(f\"Number of countries: {number_of_countries}\")"
   ]
  },
  {
   "cell_type": "code",
   "execution_count": null,
   "metadata": {},
   "outputs": [],
   "source": [
    "number_of_restaurants = len(df.index)\n",
    "print(f\"Number of restaurants: {number_of_restaurants}\")"
   ]
  },
  {
   "cell_type": "code",
   "execution_count": null,
   "metadata": {},
   "outputs": [],
   "source": [
    "top_cuisine = df[\"Cuisine\"].value_counts().index[:5]\n",
    "print(\"Top 5 cuisine:\")\n",
    "for i, cuisine in enumerate(top_cuisine, start=1):\n",
    "    print(f\"{i}. {cuisine[0]}\")"
   ]
  },
  {
   "cell_type": "markdown",
   "metadata": {},
   "source": [
    "There are 15.520 restaurants in the Micheline Guide, which are located in 49 different countries. The top cuisine is the 'Modern Cuisine', followed by 'Traditional Cuisine'."
   ]
  },
  {
   "cell_type": "markdown",
   "metadata": {},
   "source": [
    "### Visualizations"
   ]
  },
  {
   "cell_type": "markdown",
   "metadata": {},
   "source": [
    "#### Awards Distribution\n",
    "\n",
    "The following distinctions are available for restaurants to receive:\n",
    "\n",
    "* **3 Stars**: Exceptional cuisine\n",
    "* **2 Stars**: Excellent cooking\n",
    "* **1 Star**: High quality cooking\n",
    "* **Bib Gourmand**: Good quality, good value cooking\n",
    "* **Selected Restaurants**: Good cooking\n"
   ]
  },
  {
   "cell_type": "code",
   "execution_count": null,
   "metadata": {},
   "outputs": [],
   "source": [
    "award_counts = df[\"Award\"].value_counts()\n",
    "award_counts"
   ]
  },
  {
   "cell_type": "code",
   "execution_count": null,
   "metadata": {},
   "outputs": [],
   "source": [
    "fig = px.bar(award_counts, labels={\"value\": \"Number of restaurants\"}, text_auto=True)\n",
    "fig.update(layout_showlegend=False)\n",
    "fig.show()"
   ]
  },
  {
   "cell_type": "markdown",
   "metadata": {},
   "source": [
    "The visualization shows that less that only 145 of the restaurants in the Michelin Guide have a 3 Star distinction. This is less than 1 percent!"
   ]
  },
  {
   "cell_type": "markdown",
   "metadata": {},
   "source": [
    "#### Cuisine popularity"
   ]
  },
  {
   "cell_type": "code",
   "execution_count": null,
   "metadata": {},
   "outputs": [],
   "source": [
    "cuisine_counts = df[\"Cuisine\"].value_counts()[:10]\n",
    "cuisine_counts"
   ]
  },
  {
   "cell_type": "code",
   "execution_count": null,
   "metadata": {},
   "outputs": [],
   "source": [
    "fig = px.bar(cuisine_counts, labels={\"value\": \"Number of restaurants\"}, text_auto=True)\n",
    "fig.update(layout_showlegend=False)\n",
    "fig.show()"
   ]
  },
  {
   "cell_type": "markdown",
   "metadata": {},
   "source": [
    "We see that the 'Modern Cuisine' is the most popular cuisine, by a large margin. "
   ]
  },
  {
   "cell_type": "markdown",
   "metadata": {},
   "source": [
    "#### Price Range Distribution"
   ]
  },
  {
   "cell_type": "code",
   "execution_count": null,
   "metadata": {},
   "outputs": [],
   "source": [
    "price_counts = df[\"Price (normalized)\"].value_counts()\n",
    "price_counts"
   ]
  },
  {
   "cell_type": "code",
   "execution_count": null,
   "metadata": {},
   "outputs": [],
   "source": [
    "fig = px.bar(\n",
    "    price_counts,\n",
    "    labels={\"value\": \"Number of restaurants\"},\n",
    "    text_auto=True,\n",
    "    category_orders={\"Price (normalized)\": [\"Budget-Friendly\", \"Moderate\", \"Premium\", \"Luxury\"]},\n",
    ")\n",
    "fig.update(layout_showlegend=False)\n",
    "fig.show()"
   ]
  },
  {
   "cell_type": "markdown",
   "metadata": {},
   "source": [
    "#### Green Stars"
   ]
  },
  {
   "cell_type": "code",
   "execution_count": null,
   "metadata": {},
   "outputs": [],
   "source": [
    "greenstar_counts = df[\"GreenStar\"].value_counts()\n",
    "greenstar_counts"
   ]
  },
  {
   "cell_type": "code",
   "execution_count": null,
   "metadata": {},
   "outputs": [],
   "source": [
    "fig = px.bar(greenstar_counts, labels={\"value\": \"Number of restaurants\"}, text_auto=True)\n",
    "fig.update(layout_showlegend=False)\n",
    "fig.show()"
   ]
  },
  {
   "cell_type": "markdown",
   "metadata": {},
   "source": [
    "#### Top Locations"
   ]
  },
  {
   "cell_type": "code",
   "execution_count": null,
   "metadata": {},
   "outputs": [],
   "source": [
    "top_locations = df[\"City\"].value_counts()[:10]\n",
    "top_locations"
   ]
  },
  {
   "cell_type": "code",
   "execution_count": null,
   "metadata": {},
   "outputs": [],
   "source": [
    "fig = px.bar(top_locations, labels={\"value\": \"Number of restaurants\"}, text_auto=True)\n",
    "fig.update(layout_showlegend=False)\n",
    "fig.show()"
   ]
  },
  {
   "cell_type": "markdown",
   "metadata": {},
   "source": [
    "#### Top Countries"
   ]
  },
  {
   "cell_type": "code",
   "execution_count": null,
   "metadata": {},
   "outputs": [],
   "source": [
    "top_countries = df[\"Country\"].value_counts()[:10]\n",
    "top_countries"
   ]
  },
  {
   "cell_type": "code",
   "execution_count": null,
   "metadata": {},
   "outputs": [],
   "source": [
    "fig = px.bar(top_countries, labels={\"value\": \"Number of restaurants\"}, text_auto=True)\n",
    "fig.update(layout_showlegend=False)\n",
    "fig.show()"
   ]
  }
 ],
 "metadata": {
  "kernelspec": {
   "display_name": "michelin-guide-restaurants-dashboard-wTnfRUEz-py3.11",
   "language": "python",
   "name": "python3"
  },
  "language_info": {
   "codemirror_mode": {
    "name": "ipython",
    "version": 3
   },
   "file_extension": ".py",
   "mimetype": "text/x-python",
   "name": "python",
   "nbconvert_exporter": "python",
   "pygments_lexer": "ipython3",
   "version": "3.11.9"
  }
 },
 "nbformat": 4,
 "nbformat_minor": 2
}
